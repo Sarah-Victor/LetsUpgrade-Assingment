{
  "nbformat": 4,
  "nbformat_minor": 0,
  "metadata": {
    "colab": {
      "name": "Assignment 2.ipynb",
      "provenance": [],
      "authorship_tag": "ABX9TyMqSpfrB0c3wShYHp4sMJaF",
      "include_colab_link": true
    },
    "kernelspec": {
      "name": "python3",
      "display_name": "Python 3"
    }
  },
  "cells": [
    {
      "cell_type": "markdown",
      "metadata": {
        "id": "view-in-github",
        "colab_type": "text"
      },
      "source": [
        "<a href=\"https://colab.research.google.com/github/Sarah-Victor/LetsUpgrade-Assingment/blob/main/Assignment_2.ipynb\" target=\"_parent\"><img src=\"https://colab.research.google.com/assets/colab-badge.svg\" alt=\"Open In Colab\"/></a>"
      ]
    },
    {
      "cell_type": "markdown",
      "metadata": {
        "id": "WFkULhZblYog"
      },
      "source": [
        "#Assignment II\r\n",
        "*You all are pilots, you have to land a plane, the altitude required for landing a plane is 1000ft, if it is less than that tell the pilot to land the plane, or it is more than that but less than 5000ft ask the pilot to \"come down to 1000ft\", else if it is more than 5000ft ask the pilot to \"go around and try later\"*"
      ]
    },
    {
      "cell_type": "code",
      "metadata": {
        "id": "7N-Cl_4elnNM"
      },
      "source": [
        "Planealt=6500"
      ],
      "execution_count": 1,
      "outputs": []
    },
    {
      "cell_type": "code",
      "metadata": {
        "colab": {
          "base_uri": "https://localhost:8080/"
        },
        "id": "1Ppjbjy8lrjm",
        "outputId": "2cae0aea-5970-4d8d-ea88-0aa0b8328c53"
      },
      "source": [
        "print (\"The landing altitude must be 1000ft or less than the same!!\")\r\n",
        "print (\"Current Plane altitude is : \",Planealt)\r\n",
        "if Planealt < 1000 :\r\n",
        "  print (\"Land the plane Now !\")\r\n",
        "elif 1000 < Planealt < 5000 :\r\n",
        "  print (\"Come down to 1000ft !!\")\r\n",
        "else:\r\n",
        "  print (\"Go Around and Try Again, Pilot\")"
      ],
      "execution_count": 4,
      "outputs": [
        {
          "output_type": "stream",
          "text": [
            "The landing altitude must be 1000ft or less than the same!!\n",
            "Current Plane altitude is :  6500\n",
            "Go Around and Try Again, Pilot\n"
          ],
          "name": "stdout"
        }
      ]
    }
  ]
}