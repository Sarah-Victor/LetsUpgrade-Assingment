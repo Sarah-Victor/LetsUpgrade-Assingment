{
  "nbformat": 4,
  "nbformat_minor": 0,
  "metadata": {
    "colab": {
      "name": "Assingment.ipynb",
      "provenance": [],
      "authorship_tag": "ABX9TyPJHVCzwbe4AfFCL1OtEGY1",
      "include_colab_link": true
    },
    "kernelspec": {
      "name": "python3",
      "display_name": "Python 3"
    }
  },
  "cells": [
    {
      "cell_type": "markdown",
      "metadata": {
        "id": "view-in-github",
        "colab_type": "text"
      },
      "source": [
        "<a href=\"https://colab.research.google.com/github/Sarah-Victor/LetsUpgrade-Assingment/blob/main/Assingment.ipynb\" target=\"_parent\"><img src=\"https://colab.research.google.com/assets/colab-badge.svg\" alt=\"Open In Colab\"/></a>"
      ]
    },
    {
      "cell_type": "markdown",
      "metadata": {
        "id": "wi0DMeMlAEM1"
      },
      "source": [
        "\r\n",
        "\r\n",
        "#FIVE LIST FUNCTIONS\r\n",
        "LetsUpgrade Assignment 1.a\r\n",
        "\r\n"
      ]
    },
    {
      "cell_type": "code",
      "metadata": {
        "id": "rB8K-Bm35nyf"
      },
      "source": [
        "lst=[1,2,3,[\"ahi\",\"sarah\"],16.10,4,5]"
      ],
      "execution_count": 1,
      "outputs": []
    },
    {
      "cell_type": "code",
      "metadata": {
        "colab": {
          "base_uri": "https://localhost:8080/"
        },
        "id": "bf9tJVZE5pNY",
        "outputId": "7aa32601-6b97-4069-ba60-d47fd886dc65"
      },
      "source": [
        "lst"
      ],
      "execution_count": 2,
      "outputs": [
        {
          "output_type": "execute_result",
          "data": {
            "text/plain": [
              "[1, 2, 3, ['ahi', 'sarah'], 16.1, 4, 5]"
            ]
          },
          "metadata": {
            "tags": []
          },
          "execution_count": 2
        }
      ]
    },
    {
      "cell_type": "code",
      "metadata": {
        "id": "2UmfJnYT6FAm"
      },
      "source": [
        "lst.append(6)"
      ],
      "execution_count": 3,
      "outputs": []
    },
    {
      "cell_type": "code",
      "metadata": {
        "colab": {
          "base_uri": "https://localhost:8080/"
        },
        "id": "uPBhbu3C6M3M",
        "outputId": "39ce9357-1284-41d0-c8ee-17302ad83c7f"
      },
      "source": [
        "lst"
      ],
      "execution_count": 4,
      "outputs": [
        {
          "output_type": "execute_result",
          "data": {
            "text/plain": [
              "[1, 2, 3, ['ahi', 'sarah'], 16.1, 4, 5, 6]"
            ]
          },
          "metadata": {
            "tags": []
          },
          "execution_count": 4
        }
      ]
    },
    {
      "cell_type": "code",
      "metadata": {
        "id": "ry82MtFh6SQi"
      },
      "source": [
        "lst.insert(3,4)"
      ],
      "execution_count": 5,
      "outputs": []
    },
    {
      "cell_type": "code",
      "metadata": {
        "colab": {
          "base_uri": "https://localhost:8080/"
        },
        "id": "bYHx9Ahq6pm9",
        "outputId": "7c82f9f2-9398-4e71-da79-2cfdf92a13be"
      },
      "source": [
        "lst"
      ],
      "execution_count": 6,
      "outputs": [
        {
          "output_type": "execute_result",
          "data": {
            "text/plain": [
              "[1, 2, 3, 4, ['ahi', 'sarah'], 16.1, 4, 5, 6]"
            ]
          },
          "metadata": {
            "tags": []
          },
          "execution_count": 6
        }
      ]
    },
    {
      "cell_type": "code",
      "metadata": {
        "colab": {
          "base_uri": "https://localhost:8080/"
        },
        "id": "UeTjxcHL9JBG",
        "outputId": "3b9ca226-4b72-46a4-edb3-0a08367472db"
      },
      "source": [
        "lst.index(4)"
      ],
      "execution_count": 9,
      "outputs": [
        {
          "output_type": "execute_result",
          "data": {
            "text/plain": [
              "3"
            ]
          },
          "metadata": {
            "tags": []
          },
          "execution_count": 9
        }
      ]
    },
    {
      "cell_type": "code",
      "metadata": {
        "id": "6qKVb2_N9ofa"
      },
      "source": [
        "lst.reverse()"
      ],
      "execution_count": 10,
      "outputs": []
    },
    {
      "cell_type": "code",
      "metadata": {
        "colab": {
          "base_uri": "https://localhost:8080/"
        },
        "id": "nSxLmBKj9vIG",
        "outputId": "74b405d8-fc03-495d-ccfd-d87f9150629b"
      },
      "source": [
        "lst"
      ],
      "execution_count": 11,
      "outputs": [
        {
          "output_type": "execute_result",
          "data": {
            "text/plain": [
              "[6, 5, 4, 16.1, ['ahi', 'sarah'], 4, 3, 2, 1]"
            ]
          },
          "metadata": {
            "tags": []
          },
          "execution_count": 11
        }
      ]
    },
    {
      "cell_type": "code",
      "metadata": {
        "id": "2MNg6FIb9w8g"
      },
      "source": [
        "lst.remove(3)"
      ],
      "execution_count": 19,
      "outputs": []
    },
    {
      "cell_type": "code",
      "metadata": {
        "colab": {
          "base_uri": "https://localhost:8080/"
        },
        "id": "6iagzDch_iH4",
        "outputId": "82e9e8df-88f5-412c-97d1-fee334d06b72"
      },
      "source": [
        "lst"
      ],
      "execution_count": 20,
      "outputs": [
        {
          "output_type": "execute_result",
          "data": {
            "text/plain": [
              "[4, 5, 6, 16.1, ['ahi', 'sarah'], 4, 2, 1]"
            ]
          },
          "metadata": {
            "tags": []
          },
          "execution_count": 20
        }
      ]
    },
    {
      "cell_type": "markdown",
      "metadata": {
        "id": "X5D_ZJ_XB4yl"
      },
      "source": [
        "#FIVE DICTIONARY FUNCTIONS\r\n",
        "Assingment 1b\r\n",
        "\r\n"
      ]
    },
    {
      "cell_type": "code",
      "metadata": {
        "id": "NPhwcHrACEBK"
      },
      "source": [
        "dit={\"key\":200,\"key1\":300,\"key2\":400,\"key3\":500,\"key4\":600}"
      ],
      "execution_count": 24,
      "outputs": []
    },
    {
      "cell_type": "code",
      "metadata": {
        "colab": {
          "base_uri": "https://localhost:8080/"
        },
        "id": "f9XvzCR7DlgD",
        "outputId": "5989b19a-d862-49b7-d267-d28e18bb0cb5"
      },
      "source": [
        "dit.get(\"key\")"
      ],
      "execution_count": 25,
      "outputs": [
        {
          "output_type": "execute_result",
          "data": {
            "text/plain": [
              "200"
            ]
          },
          "metadata": {
            "tags": []
          },
          "execution_count": 25
        }
      ]
    },
    {
      "cell_type": "code",
      "metadata": {
        "colab": {
          "base_uri": "https://localhost:8080/"
        },
        "id": "HHZ9jziuDq1v",
        "outputId": "d0376e53-49bb-499e-ab71-8ca65f7efe8f"
      },
      "source": [
        "dit.keys()"
      ],
      "execution_count": 26,
      "outputs": [
        {
          "output_type": "execute_result",
          "data": {
            "text/plain": [
              "dict_keys(['key', 'key1', 'key2', 'key3', 'key4'])"
            ]
          },
          "metadata": {
            "tags": []
          },
          "execution_count": 26
        }
      ]
    },
    {
      "cell_type": "code",
      "metadata": {
        "colab": {
          "base_uri": "https://localhost:8080/"
        },
        "id": "fTkIccl7D5wY",
        "outputId": "93eb0a57-842f-4736-e6a4-bc007eeace49"
      },
      "source": [
        "dit.values()"
      ],
      "execution_count": 27,
      "outputs": [
        {
          "output_type": "execute_result",
          "data": {
            "text/plain": [
              "dict_values([200, 300, 400, 500, 600])"
            ]
          },
          "metadata": {
            "tags": []
          },
          "execution_count": 27
        }
      ]
    },
    {
      "cell_type": "code",
      "metadata": {
        "colab": {
          "base_uri": "https://localhost:8080/"
        },
        "id": "eDkALMp8D9s8",
        "outputId": "c3a57a25-4985-48e5-f7a6-176c6d80b664"
      },
      "source": [
        "dit.items()"
      ],
      "execution_count": 28,
      "outputs": [
        {
          "output_type": "execute_result",
          "data": {
            "text/plain": [
              "dict_items([('key', 200), ('key1', 300), ('key2', 400), ('key3', 500), ('key4', 600)])"
            ]
          },
          "metadata": {
            "tags": []
          },
          "execution_count": 28
        }
      ]
    },
    {
      "cell_type": "code",
      "metadata": {
        "colab": {
          "base_uri": "https://localhost:8080/"
        },
        "id": "83R3fhbsEJAN",
        "outputId": "40a31874-f859-41cf-d633-b9d87e65336f"
      },
      "source": [
        "dit.pop('key4')"
      ],
      "execution_count": 32,
      "outputs": [
        {
          "output_type": "execute_result",
          "data": {
            "text/plain": [
              "600"
            ]
          },
          "metadata": {
            "tags": []
          },
          "execution_count": 32
        }
      ]
    },
    {
      "cell_type": "code",
      "metadata": {
        "colab": {
          "base_uri": "https://localhost:8080/"
        },
        "id": "Yam541AQEllK",
        "outputId": "97615064-2f01-44bf-8f2a-4dd3e9142a46"
      },
      "source": [
        "dit"
      ],
      "execution_count": 33,
      "outputs": [
        {
          "output_type": "execute_result",
          "data": {
            "text/plain": [
              "{'key': 200, 'key1': 300, 'key2': 400, 'key3': 500}"
            ]
          },
          "metadata": {
            "tags": []
          },
          "execution_count": 33
        }
      ]
    },
    {
      "cell_type": "code",
      "metadata": {
        "id": "Iz2_aYEuFPXn"
      },
      "source": [
        "dit.clear()"
      ],
      "execution_count": 37,
      "outputs": []
    },
    {
      "cell_type": "code",
      "metadata": {
        "colab": {
          "base_uri": "https://localhost:8080/"
        },
        "id": "IWJNo5AWFU3O",
        "outputId": "141e1ae0-c01b-4410-9e9c-4184e5c715ad"
      },
      "source": [
        "dit"
      ],
      "execution_count": 38,
      "outputs": [
        {
          "output_type": "execute_result",
          "data": {
            "text/plain": [
              "{}"
            ]
          },
          "metadata": {
            "tags": []
          },
          "execution_count": 38
        }
      ]
    }
  ]
}